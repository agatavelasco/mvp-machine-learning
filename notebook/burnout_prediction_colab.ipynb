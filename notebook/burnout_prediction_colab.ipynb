{
 "cells": [
  {
   "cell_type": "markdown",
   "id": "8a445ff2",
   "metadata": {},
   "source": [
    "\n",
    "#Previsão de Risco de Burnout no Ambiente de Trabalho\n",
    "\n",
    "Este notebook tem como objetivo treinar e avaliar modelos de Machine Learning: KNN, Árvore de Classificação, Naive Bayes e SVM, para prever o risco de burnout entre colaboradores com base em variáveis como jornada de trabalho, suporte no ambiente, equilíbrio vida-trabalho, entre outras.\n",
    "\n",
    "Projeto desenvolvido por Ágata Velasco Penze\n"
   ]
  },
  {
   "cell_type": "code",
   "execution_count": null,
   "id": "69fa2993",
   "metadata": {},
   "outputs": [],
   "source": [
    "\n",
    "# Importando bibliotecas\n",
    "import pandas as pd\n",
    "import numpy as np\n",
    "import seaborn as sns\n",
    "import matplotlib.pyplot as plt\n",
    "\n",
    "from sklearn.model_selection import train_test_split, cross_val_score\n",
    "from sklearn.preprocessing import StandardScaler, LabelEncoder\n",
    "from sklearn.metrics import classification_report, confusion_matrix, accuracy_score\n",
    "from sklearn.pipeline import Pipeline\n",
    "from sklearn.neighbors import KNeighborsClassifier\n",
    "from sklearn.naive_bayes import GaussianNB\n",
    "from sklearn.tree import DecisionTreeClassifier\n",
    "from sklearn.svm import SVC\n",
    "import joblib\n"
   ]
  },
  {
   "cell_type": "code",
   "execution_count": null,
   "id": "d29a9945",
   "metadata": {},
   "outputs": [],
   "source": [
    "\n",
    "# Carregando os dados via URL do GitHub\n",
    "url = \"https://raw.githubusercontent.com/agatavelasco/mvp-machine-learning/master/mental_health_workplace_survey.csv\"\n",
    "df = pd.read_csv(url)\n",
    "df.head()\n"
   ]
  },
  {
   "cell_type": "code",
   "execution_count": null,
   "id": "36654719",
   "metadata": {},
   "outputs": [],
   "source": [
    "\n",
    "# Pré-processamento inicial\n",
    "# Removendo colunas irrelevantes e codificando variáveis\n",
    "\n",
    "df = df.drop(columns=[\"EmployeeID\", \"Country\", \"JobRole\", \"Department\", \"SalaryRange\"])\n",
    "\n",
    "# Convertendo colunas categóricas\n",
    "label_cols = [\"Gender\", \"RemoteWork\", \"HasMentalHealthSupport\", \"HasTherapyAccess\"]\n",
    "for col in label_cols:\n",
    "    df[col] = LabelEncoder().fit_transform(df[col])\n",
    "\n",
    "# Definindo X e y\n",
    "X = df.drop(columns=[\"BurnoutRisk\"])\n",
    "y = df[\"BurnoutRisk\"]\n",
    "\n",
    "# Dividindo em treino e teste\n",
    "X_train, X_test, y_train, y_test = train_test_split(X, y, test_size=0.2, random_state=42, stratify=y)\n",
    "\n",
    "print(\"Formato do treino:\", X_train.shape)\n"
   ]
  },
  {
   "cell_type": "code",
   "execution_count": null,
   "id": "d6bcec03",
   "metadata": {},
   "outputs": [],
   "source": [
    "\n",
    "# Treinando modelos com pipelines\n",
    "\n",
    "models = {\n",
    "    \"KNN\": KNeighborsClassifier(),\n",
    "    \"Decision Tree\": DecisionTreeClassifier(random_state=42),\n",
    "    \"Naive Bayes\": GaussianNB(),\n",
    "    \"SVM\": SVC()\n",
    "}\n",
    "\n",
    "for name, model in models.items():\n",
    "    pipeline = Pipeline([\n",
    "        (\"scaler\", StandardScaler()),\n",
    "        (\"classifier\", model)\n",
    "    ])\n",
    "    pipeline.fit(X_train, y_train)\n",
    "    y_pred = pipeline.predict(X_test)\n",
    "    acc = accuracy_score(y_test, y_pred)\n",
    "    print(f\"\\nModelo: {name}\")\n",
    "    print(f\"Acurácia: {acc:.2f}\")\n",
    "    print(\"Classification Report:\")\n",
    "    print(classification_report(y_test, y_pred))\n"
   ]
  },
  {
   "cell_type": "code",
   "execution_count": null,
   "id": "13caaf70",
   "metadata": {},
   "outputs": [],
   "source": [
    "\n",
    "# Exportando o melhor modelo (ex: SVM)\n",
    "\n",
    "final_model = Pipeline([\n",
    "    (\"scaler\", StandardScaler()),\n",
    "    (\"classifier\", SVC())\n",
    "])\n",
    "final_model.fit(X_train, y_train)\n",
    "\n",
    "joblib.dump(final_model, \"burnout_model.pkl\")\n",
    "print(\"Modelo salvo como 'burnout_model.pkl'\")\n"
   ]
  },
  {
   "cell_type": "markdown",
   "id": "0dc563b5",
   "metadata": {},
   "source": [
    "\n",
    "## ✅ Conclusão\n",
    "\n",
    "O modelo treinado apresenta desempenho satisfatório para prever o risco de burnout com base nas variáveis analisadas. Esta aplicação pode ser estendida para sistemas de RH ou saúde corporativa com foco em prevenção e bem-estar do colaborador.\n",
    "\n",
    "Na próxima etapa, este modelo será integrado a uma aplicação full stack que permitirá a inserção de novos dados e previsão do risco em tempo real.\n"
   ]
  }
 ],
 "metadata": {},
 "nbformat": 4,
 "nbformat_minor": 5
}
